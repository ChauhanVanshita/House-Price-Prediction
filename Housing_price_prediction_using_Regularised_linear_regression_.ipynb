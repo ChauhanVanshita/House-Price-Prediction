{
  "nbformat": 4,
  "nbformat_minor": 0,
  "metadata": {
    "colab": {
      "provenance": [],
      "include_colab_link": true
    },
    "kernelspec": {
      "name": "python3",
      "display_name": "Python 3"
    }
  },
  "cells": [
    {
      "cell_type": "markdown",
      "metadata": {
        "id": "view-in-github",
        "colab_type": "text"
      },
      "source": [
        "<a href=\"https://colab.research.google.com/github/ChauhanVanshita/House-Price-Prediction/blob/main/Housing_price_prediction_using_Regularised_linear_regression_.ipynb\" target=\"_parent\"><img src=\"https://colab.research.google.com/assets/colab-badge.svg\" alt=\"Open In Colab\"/></a>"
      ]
    },
    {
      "cell_type": "markdown",
      "metadata": {
        "id": "3nppKaoi4Lr3"
      },
      "source": [
        "# **Housing price prediction using linear regression**\n",
        "(*Regularised Gradient Descent and Regularised Normal equation*)\n",
        "\n",
        "---\n",
        "\n",
        "\n",
        "\n"
      ]
    },
    {
      "cell_type": "code",
      "metadata": {
        "id": "zDCzcBQ8Q1u4"
      },
      "source": [
        "import numpy as np\n",
        "import pandas as pd\n",
        "import matplotlib.pyplot as plt\n",
        "import seaborn as sns"
      ],
      "execution_count": 64,
      "outputs": []
    },
    {
      "cell_type": "markdown",
      "metadata": {
        "id": "dHiaTyNZ5CMc"
      },
      "source": [
        "\n",
        "1.   *Delete unnecessary column*\n",
        "2.   *Normalised the data with mean*\n"
      ]
    },
    {
      "cell_type": "code",
      "metadata": {
        "outputId": "68fbcb28-eb73-451e-f845-1e7b34e37db6",
        "id": "Z_1MXqR2-08l",
        "colab": {
          "base_uri": "https://localhost:8080/",
          "height": 226
        }
      },
      "source": [
        "data = pd.read_csv('BostonHousing.csv')\n",
        "data=data.drop(['ptratio', 'lstat'],axis=1)\n",
        "mean = data.mean()[0]\n",
        "stddev = data.std()[0]\n",
        "data = (data - data.mean())/data.std()\n",
        "\n",
        "data.head()"
      ],
      "execution_count": 65,
      "outputs": [
        {
          "output_type": "execute_result",
          "data": {
            "text/plain": [
              "       crim        zn     indus      chas       nox        rm       age  \\\n",
              "0 -0.419367  0.284548 -1.286636 -0.272329 -0.144075  0.413263 -0.119895   \n",
              "1 -0.416927 -0.487240 -0.592794 -0.272329 -0.739530  0.194082  0.366803   \n",
              "2 -0.416929 -0.487240 -0.592794 -0.272329 -0.739530  1.281446 -0.265549   \n",
              "3 -0.416338 -0.487240 -1.305586 -0.272329 -0.834458  1.015298 -0.809088   \n",
              "4 -0.412074 -0.487240 -1.305586 -0.272329 -0.834458  1.227362 -0.510674   \n",
              "\n",
              "        dis       rad       tax         b      medv  \n",
              "0  0.140075 -0.981871 -0.665949  0.440616  0.159528  \n",
              "1  0.556609 -0.867024 -0.986353  0.440616 -0.101424  \n",
              "2  0.556609 -0.867024 -0.986353  0.396035  1.322937  \n",
              "3  1.076671 -0.752178 -1.105022  0.415751  1.181589  \n",
              "4  1.076671 -0.752178 -1.105022  0.440616  1.486032  "
            ],
            "text/html": [
              "\n",
              "  <div id=\"df-bfefcc57-4c74-4b31-89b3-70b52550c045\" class=\"colab-df-container\">\n",
              "    <div>\n",
              "<style scoped>\n",
              "    .dataframe tbody tr th:only-of-type {\n",
              "        vertical-align: middle;\n",
              "    }\n",
              "\n",
              "    .dataframe tbody tr th {\n",
              "        vertical-align: top;\n",
              "    }\n",
              "\n",
              "    .dataframe thead th {\n",
              "        text-align: right;\n",
              "    }\n",
              "</style>\n",
              "<table border=\"1\" class=\"dataframe\">\n",
              "  <thead>\n",
              "    <tr style=\"text-align: right;\">\n",
              "      <th></th>\n",
              "      <th>crim</th>\n",
              "      <th>zn</th>\n",
              "      <th>indus</th>\n",
              "      <th>chas</th>\n",
              "      <th>nox</th>\n",
              "      <th>rm</th>\n",
              "      <th>age</th>\n",
              "      <th>dis</th>\n",
              "      <th>rad</th>\n",
              "      <th>tax</th>\n",
              "      <th>b</th>\n",
              "      <th>medv</th>\n",
              "    </tr>\n",
              "  </thead>\n",
              "  <tbody>\n",
              "    <tr>\n",
              "      <th>0</th>\n",
              "      <td>-0.419367</td>\n",
              "      <td>0.284548</td>\n",
              "      <td>-1.286636</td>\n",
              "      <td>-0.272329</td>\n",
              "      <td>-0.144075</td>\n",
              "      <td>0.413263</td>\n",
              "      <td>-0.119895</td>\n",
              "      <td>0.140075</td>\n",
              "      <td>-0.981871</td>\n",
              "      <td>-0.665949</td>\n",
              "      <td>0.440616</td>\n",
              "      <td>0.159528</td>\n",
              "    </tr>\n",
              "    <tr>\n",
              "      <th>1</th>\n",
              "      <td>-0.416927</td>\n",
              "      <td>-0.487240</td>\n",
              "      <td>-0.592794</td>\n",
              "      <td>-0.272329</td>\n",
              "      <td>-0.739530</td>\n",
              "      <td>0.194082</td>\n",
              "      <td>0.366803</td>\n",
              "      <td>0.556609</td>\n",
              "      <td>-0.867024</td>\n",
              "      <td>-0.986353</td>\n",
              "      <td>0.440616</td>\n",
              "      <td>-0.101424</td>\n",
              "    </tr>\n",
              "    <tr>\n",
              "      <th>2</th>\n",
              "      <td>-0.416929</td>\n",
              "      <td>-0.487240</td>\n",
              "      <td>-0.592794</td>\n",
              "      <td>-0.272329</td>\n",
              "      <td>-0.739530</td>\n",
              "      <td>1.281446</td>\n",
              "      <td>-0.265549</td>\n",
              "      <td>0.556609</td>\n",
              "      <td>-0.867024</td>\n",
              "      <td>-0.986353</td>\n",
              "      <td>0.396035</td>\n",
              "      <td>1.322937</td>\n",
              "    </tr>\n",
              "    <tr>\n",
              "      <th>3</th>\n",
              "      <td>-0.416338</td>\n",
              "      <td>-0.487240</td>\n",
              "      <td>-1.305586</td>\n",
              "      <td>-0.272329</td>\n",
              "      <td>-0.834458</td>\n",
              "      <td>1.015298</td>\n",
              "      <td>-0.809088</td>\n",
              "      <td>1.076671</td>\n",
              "      <td>-0.752178</td>\n",
              "      <td>-1.105022</td>\n",
              "      <td>0.415751</td>\n",
              "      <td>1.181589</td>\n",
              "    </tr>\n",
              "    <tr>\n",
              "      <th>4</th>\n",
              "      <td>-0.412074</td>\n",
              "      <td>-0.487240</td>\n",
              "      <td>-1.305586</td>\n",
              "      <td>-0.272329</td>\n",
              "      <td>-0.834458</td>\n",
              "      <td>1.227362</td>\n",
              "      <td>-0.510674</td>\n",
              "      <td>1.076671</td>\n",
              "      <td>-0.752178</td>\n",
              "      <td>-1.105022</td>\n",
              "      <td>0.440616</td>\n",
              "      <td>1.486032</td>\n",
              "    </tr>\n",
              "  </tbody>\n",
              "</table>\n",
              "</div>\n",
              "    <div class=\"colab-df-buttons\">\n",
              "\n",
              "  <div class=\"colab-df-container\">\n",
              "    <button class=\"colab-df-convert\" onclick=\"convertToInteractive('df-bfefcc57-4c74-4b31-89b3-70b52550c045')\"\n",
              "            title=\"Convert this dataframe to an interactive table.\"\n",
              "            style=\"display:none;\">\n",
              "\n",
              "  <svg xmlns=\"http://www.w3.org/2000/svg\" height=\"24px\" viewBox=\"0 -960 960 960\">\n",
              "    <path d=\"M120-120v-720h720v720H120Zm60-500h600v-160H180v160Zm220 220h160v-160H400v160Zm0 220h160v-160H400v160ZM180-400h160v-160H180v160Zm440 0h160v-160H620v160ZM180-180h160v-160H180v160Zm440 0h160v-160H620v160Z\"/>\n",
              "  </svg>\n",
              "    </button>\n",
              "\n",
              "  <style>\n",
              "    .colab-df-container {\n",
              "      display:flex;\n",
              "      gap: 12px;\n",
              "    }\n",
              "\n",
              "    .colab-df-convert {\n",
              "      background-color: #E8F0FE;\n",
              "      border: none;\n",
              "      border-radius: 50%;\n",
              "      cursor: pointer;\n",
              "      display: none;\n",
              "      fill: #1967D2;\n",
              "      height: 32px;\n",
              "      padding: 0 0 0 0;\n",
              "      width: 32px;\n",
              "    }\n",
              "\n",
              "    .colab-df-convert:hover {\n",
              "      background-color: #E2EBFA;\n",
              "      box-shadow: 0px 1px 2px rgba(60, 64, 67, 0.3), 0px 1px 3px 1px rgba(60, 64, 67, 0.15);\n",
              "      fill: #174EA6;\n",
              "    }\n",
              "\n",
              "    .colab-df-buttons div {\n",
              "      margin-bottom: 4px;\n",
              "    }\n",
              "\n",
              "    [theme=dark] .colab-df-convert {\n",
              "      background-color: #3B4455;\n",
              "      fill: #D2E3FC;\n",
              "    }\n",
              "\n",
              "    [theme=dark] .colab-df-convert:hover {\n",
              "      background-color: #434B5C;\n",
              "      box-shadow: 0px 1px 3px 1px rgba(0, 0, 0, 0.15);\n",
              "      filter: drop-shadow(0px 1px 2px rgba(0, 0, 0, 0.3));\n",
              "      fill: #FFFFFF;\n",
              "    }\n",
              "  </style>\n",
              "\n",
              "    <script>\n",
              "      const buttonEl =\n",
              "        document.querySelector('#df-bfefcc57-4c74-4b31-89b3-70b52550c045 button.colab-df-convert');\n",
              "      buttonEl.style.display =\n",
              "        google.colab.kernel.accessAllowed ? 'block' : 'none';\n",
              "\n",
              "      async function convertToInteractive(key) {\n",
              "        const element = document.querySelector('#df-bfefcc57-4c74-4b31-89b3-70b52550c045');\n",
              "        const dataTable =\n",
              "          await google.colab.kernel.invokeFunction('convertToInteractive',\n",
              "                                                    [key], {});\n",
              "        if (!dataTable) return;\n",
              "\n",
              "        const docLinkHtml = 'Like what you see? Visit the ' +\n",
              "          '<a target=\"_blank\" href=https://colab.research.google.com/notebooks/data_table.ipynb>data table notebook</a>'\n",
              "          + ' to learn more about interactive tables.';\n",
              "        element.innerHTML = '';\n",
              "        dataTable['output_type'] = 'display_data';\n",
              "        await google.colab.output.renderOutput(dataTable, element);\n",
              "        const docLink = document.createElement('div');\n",
              "        docLink.innerHTML = docLinkHtml;\n",
              "        element.appendChild(docLink);\n",
              "      }\n",
              "    </script>\n",
              "  </div>\n",
              "\n",
              "\n",
              "<div id=\"df-bb0768cc-ca13-4a6c-93d0-baffae04c3c3\">\n",
              "  <button class=\"colab-df-quickchart\" onclick=\"quickchart('df-bb0768cc-ca13-4a6c-93d0-baffae04c3c3')\"\n",
              "            title=\"Suggest charts\"\n",
              "            style=\"display:none;\">\n",
              "\n",
              "<svg xmlns=\"http://www.w3.org/2000/svg\" height=\"24px\"viewBox=\"0 0 24 24\"\n",
              "     width=\"24px\">\n",
              "    <g>\n",
              "        <path d=\"M19 3H5c-1.1 0-2 .9-2 2v14c0 1.1.9 2 2 2h14c1.1 0 2-.9 2-2V5c0-1.1-.9-2-2-2zM9 17H7v-7h2v7zm4 0h-2V7h2v10zm4 0h-2v-4h2v4z\"/>\n",
              "    </g>\n",
              "</svg>\n",
              "  </button>\n",
              "\n",
              "<style>\n",
              "  .colab-df-quickchart {\n",
              "      --bg-color: #E8F0FE;\n",
              "      --fill-color: #1967D2;\n",
              "      --hover-bg-color: #E2EBFA;\n",
              "      --hover-fill-color: #174EA6;\n",
              "      --disabled-fill-color: #AAA;\n",
              "      --disabled-bg-color: #DDD;\n",
              "  }\n",
              "\n",
              "  [theme=dark] .colab-df-quickchart {\n",
              "      --bg-color: #3B4455;\n",
              "      --fill-color: #D2E3FC;\n",
              "      --hover-bg-color: #434B5C;\n",
              "      --hover-fill-color: #FFFFFF;\n",
              "      --disabled-bg-color: #3B4455;\n",
              "      --disabled-fill-color: #666;\n",
              "  }\n",
              "\n",
              "  .colab-df-quickchart {\n",
              "    background-color: var(--bg-color);\n",
              "    border: none;\n",
              "    border-radius: 50%;\n",
              "    cursor: pointer;\n",
              "    display: none;\n",
              "    fill: var(--fill-color);\n",
              "    height: 32px;\n",
              "    padding: 0;\n",
              "    width: 32px;\n",
              "  }\n",
              "\n",
              "  .colab-df-quickchart:hover {\n",
              "    background-color: var(--hover-bg-color);\n",
              "    box-shadow: 0 1px 2px rgba(60, 64, 67, 0.3), 0 1px 3px 1px rgba(60, 64, 67, 0.15);\n",
              "    fill: var(--button-hover-fill-color);\n",
              "  }\n",
              "\n",
              "  .colab-df-quickchart-complete:disabled,\n",
              "  .colab-df-quickchart-complete:disabled:hover {\n",
              "    background-color: var(--disabled-bg-color);\n",
              "    fill: var(--disabled-fill-color);\n",
              "    box-shadow: none;\n",
              "  }\n",
              "\n",
              "  .colab-df-spinner {\n",
              "    border: 2px solid var(--fill-color);\n",
              "    border-color: transparent;\n",
              "    border-bottom-color: var(--fill-color);\n",
              "    animation:\n",
              "      spin 1s steps(1) infinite;\n",
              "  }\n",
              "\n",
              "  @keyframes spin {\n",
              "    0% {\n",
              "      border-color: transparent;\n",
              "      border-bottom-color: var(--fill-color);\n",
              "      border-left-color: var(--fill-color);\n",
              "    }\n",
              "    20% {\n",
              "      border-color: transparent;\n",
              "      border-left-color: var(--fill-color);\n",
              "      border-top-color: var(--fill-color);\n",
              "    }\n",
              "    30% {\n",
              "      border-color: transparent;\n",
              "      border-left-color: var(--fill-color);\n",
              "      border-top-color: var(--fill-color);\n",
              "      border-right-color: var(--fill-color);\n",
              "    }\n",
              "    40% {\n",
              "      border-color: transparent;\n",
              "      border-right-color: var(--fill-color);\n",
              "      border-top-color: var(--fill-color);\n",
              "    }\n",
              "    60% {\n",
              "      border-color: transparent;\n",
              "      border-right-color: var(--fill-color);\n",
              "    }\n",
              "    80% {\n",
              "      border-color: transparent;\n",
              "      border-right-color: var(--fill-color);\n",
              "      border-bottom-color: var(--fill-color);\n",
              "    }\n",
              "    90% {\n",
              "      border-color: transparent;\n",
              "      border-bottom-color: var(--fill-color);\n",
              "    }\n",
              "  }\n",
              "</style>\n",
              "\n",
              "  <script>\n",
              "    async function quickchart(key) {\n",
              "      const quickchartButtonEl =\n",
              "        document.querySelector('#' + key + ' button');\n",
              "      quickchartButtonEl.disabled = true;  // To prevent multiple clicks.\n",
              "      quickchartButtonEl.classList.add('colab-df-spinner');\n",
              "      try {\n",
              "        const charts = await google.colab.kernel.invokeFunction(\n",
              "            'suggestCharts', [key], {});\n",
              "      } catch (error) {\n",
              "        console.error('Error during call to suggestCharts:', error);\n",
              "      }\n",
              "      quickchartButtonEl.classList.remove('colab-df-spinner');\n",
              "      quickchartButtonEl.classList.add('colab-df-quickchart-complete');\n",
              "    }\n",
              "    (() => {\n",
              "      let quickchartButtonEl =\n",
              "        document.querySelector('#df-bb0768cc-ca13-4a6c-93d0-baffae04c3c3 button');\n",
              "      quickchartButtonEl.style.display =\n",
              "        google.colab.kernel.accessAllowed ? 'block' : 'none';\n",
              "    })();\n",
              "  </script>\n",
              "</div>\n",
              "\n",
              "    </div>\n",
              "  </div>\n"
            ],
            "application/vnd.google.colaboratory.intrinsic+json": {
              "type": "dataframe",
              "variable_name": "data",
              "summary": "{\n  \"name\": \"data\",\n  \"rows\": 506,\n  \"fields\": [\n    {\n      \"column\": \"crim\",\n      \"properties\": {\n        \"dtype\": \"number\",\n        \"std\": 1.0,\n        \"min\": -0.41936692921321594,\n        \"max\": 9.924109610233579,\n        \"num_unique_values\": 504,\n        \"samples\": [\n          -0.409431504943102,\n          -0.4135400691100319,\n          -0.407808540716437\n        ],\n        \"semantic_type\": \"\",\n        \"description\": \"\"\n      }\n    },\n    {\n      \"column\": \"zn\",\n      \"properties\": {\n        \"dtype\": \"number\",\n        \"std\": 1.0,\n        \"min\": -0.4872401872268242,\n        \"max\": 3.800473460369229,\n        \"num_unique_values\": 26,\n        \"samples\": [\n          0.5846882246721891,\n          0.7990739070519918,\n          0.28454826934046534\n        ],\n        \"semantic_type\": \"\",\n        \"description\": \"\"\n      }\n    },\n    {\n      \"column\": \"indus\",\n      \"properties\": {\n        \"dtype\": \"number\",\n        \"std\": 1.0,\n        \"min\": -1.5563016579624498,\n        \"max\": 2.420170140940476,\n        \"num_unique_values\": 76,\n        \"samples\": [\n          -0.4368257263064941,\n          -1.4090789117420701,\n          -1.4455201855589959\n        ],\n        \"semantic_type\": \"\",\n        \"description\": \"\"\n      }\n    },\n    {\n      \"column\": \"chas\",\n      \"properties\": {\n        \"dtype\": \"number\",\n        \"std\": 0.9999999999999998,\n        \"min\": -0.2723290676792085,\n        \"max\": 3.6647711679116344,\n        \"num_unique_values\": 2,\n        \"samples\": [\n          3.6647711679116344,\n          -0.2723290676792085\n        ],\n        \"semantic_type\": \"\",\n        \"description\": \"\"\n      }\n    },\n    {\n      \"column\": \"nox\",\n      \"properties\": {\n        \"dtype\": \"number\",\n        \"std\": 1.0,\n        \"min\": -1.4644327158872215,\n        \"max\": 2.7296451960161567,\n        \"num_unique_values\": 81,\n        \"samples\": [\n          -1.326356076812213,\n          -0.14407485473245396\n        ],\n        \"semantic_type\": \"\",\n        \"description\": \"\"\n      }\n    },\n    {\n      \"column\": \"rm\",\n      \"properties\": {\n        \"dtype\": \"number\",\n        \"std\": 1.0,\n        \"min\": -3.8764132257185957,\n        \"max\": 3.5515296431831973,\n        \"num_unique_values\": 446,\n        \"samples\": [\n          0.8032334791959664,\n          -1.999146192938089\n        ],\n        \"semantic_type\": \"\",\n        \"description\": \"\"\n      }\n    },\n    {\n      \"column\": \"age\",\n      \"properties\": {\n        \"dtype\": \"number\",\n        \"std\": 1.0,\n        \"min\": -2.3331281587703483,\n        \"max\": 1.1163896954823942,\n        \"num_unique_values\": 356,\n        \"samples\": [\n          -0.5959353361858057,\n          -1.2353928168917725\n        ],\n        \"semantic_type\": \"\",\n        \"description\": \"\"\n      }\n    },\n    {\n      \"column\": \"dis\",\n      \"properties\": {\n        \"dtype\": \"number\",\n        \"std\": 1.0,\n        \"min\": -1.265816530984662,\n        \"max\": 3.956602196521782,\n        \"num_unique_values\": 412,\n        \"samples\": [\n          -0.7121315839177829,\n          0.21677120059445273\n        ],\n        \"semantic_type\": \"\",\n        \"description\": \"\"\n      }\n    },\n    {\n      \"column\": \"rad\",\n      \"properties\": {\n        \"dtype\": \"number\",\n        \"std\": 1.0000000000000002,\n        \"min\": -0.9818711878618682,\n        \"max\": 1.6596028954336526,\n        \"num_unique_values\": 9,\n        \"samples\": [\n          -0.2927909922195585,\n          -0.86702448858815\n        ],\n        \"semantic_type\": \"\",\n        \"description\": \"\"\n      }\n    },\n    {\n      \"column\": \"tax\",\n      \"properties\": {\n        \"dtype\": \"number\",\n        \"std\": 0.9999999999999999,\n        \"min\": -1.3126909925173598,\n        \"max\": 1.796416438923003,\n        \"num_unique_values\": 66,\n        \"samples\": [\n          -0.22687675596471402,\n          1.5294129381313688\n        ],\n        \"semantic_type\": \"\",\n        \"description\": \"\"\n      }\n    },\n    {\n      \"column\": \"b\",\n      \"properties\": {\n        \"dtype\": \"number\",\n        \"std\": 0.9999999999999999,\n        \"min\": -3.903330532603219,\n        \"max\": 0.44061589499909337,\n        \"num_unique_values\": 357,\n        \"samples\": [\n          0.43338657268778824,\n          0.42100909660934105\n        ],\n        \"semantic_type\": \"\",\n        \"description\": \"\"\n      }\n    },\n    {\n      \"column\": \"medv\",\n      \"properties\": {\n        \"dtype\": \"number\",\n        \"std\": 0.9999999999999998,\n        \"min\": -1.906339882373304,\n        \"max\": 2.9865046013320162,\n        \"num_unique_values\": 229,\n        \"samples\": [\n          -0.9168979978906726,\n          -0.0035670275990127578\n        ],\n        \"semantic_type\": \"\",\n        \"description\": \"\"\n      }\n    }\n  ]\n}"
            }
          },
          "metadata": {},
          "execution_count": 65
        }
      ]
    },
    {
      "cell_type": "markdown",
      "metadata": {
        "id": "mPI-h9ER6Ah4"
      },
      "source": [
        "\n",
        "3.   *Separate out the Feature and Target matrices\n",
        "and devide test and train data with 0.9 split ratio*\n",
        "\n",
        "\n",
        "\n",
        "\n",
        "\n"
      ]
    },
    {
      "cell_type": "code",
      "source": [
        "# Find correlation between all available columns\n",
        "corr = data.corr()\n",
        "# Find correlated data columns using heatmaps\n",
        "sns.heatmap(corr)\n",
        "plt.show()\n",
        "\n",
        "# Columns which are having correlation +ve and above 0.9 are highly correlated to each other\n"
      ],
      "metadata": {
        "colab": {
          "base_uri": "https://localhost:8080/",
          "height": 460
        },
        "id": "Cg1WOw0NiXxV",
        "outputId": "22da5a20-0311-4107-b6a5-0423c1c5a134"
      },
      "execution_count": 67,
      "outputs": [
        {
          "output_type": "display_data",
          "data": {
            "text/plain": [
              "<Figure size 640x480 with 2 Axes>"
            ],
            "image/png": "[encoded data removed]"
          },
          "metadata": {}
        }
      ]
    },
    {
      "cell_type": "code",
      "metadata": {
        "id": "hS6ya-6MWxha"
      },
      "source": [
        "\n",
        "data=np.asarray(data)\n",
        "Y=data[:,0:1]\n",
        "X=data[:,1:]\n",
        "one = np.ones((len(X),1))\n",
        "X = np.concatenate((one,X),axis=1)\n",
        "split_ratio = 0.9\n",
        "split = int(split_ratio * X.shape[0])\n",
        "X_test = X[split+1:,:]\n",
        "X_train = X[:split+1, :]\n",
        "Y_test = Y[split+1:,:]\n",
        "Y_train = Y[:split+1, :]"
      ],
      "execution_count": 68,
      "outputs": []
    },
    {
      "cell_type": "markdown",
      "metadata": {
        "id": "16F95s136lq3"
      },
      "source": [
        "4. *Compute cost function*\n",
        "5. *denormalise price funcion*\n",
        "6. *compute error function*\n",
        "7. *plot graph function*"
      ]
    },
    {
      "cell_type": "code",
      "metadata": {
        "id": "tc5dfKZXWxmK"
      },
      "source": [
        "# helper Functions\n",
        "def computeCost(X,y,theta,lam):\n",
        "    tobesummed = np.power(((X.dot(theta.T))-y),2)+lam*np.sum(np.power(theta,2))\n",
        "    return np.sum(tobesummed)/(2 * len(X))\n",
        "\n",
        "def denormalise_price(price):\n",
        "    global mean\n",
        "    global stddev\n",
        "    ret = price * stddev + mean\n",
        "    return ret\n",
        "\n",
        "def computeError(predicted, actual):\n",
        "    error = 0\n",
        "    for i in range(len(predicted)):\n",
        "        error += abs(actual[i] - predicted[i]) / actual[i]\n",
        "    error /= len(actual)\n",
        "    return error[0]\n",
        "\n",
        "def plotGraph(x,y,labelX='X',labelY='Y',title='X vs Y'):\n",
        "  fig, ax = plt.subplots()\n",
        "  ax.plot(x, y, 'r')\n",
        "  ax.set_xlabel(labelX)\n",
        "  ax.set_ylabel(labelY)\n",
        "  ax.set_title(title)"
      ],
      "execution_count": 69,
      "outputs": []
    },
    {
      "cell_type": "markdown",
      "metadata": {
        "id": "oDkRDFBq7AD4"
      },
      "source": [
        "7. *Gradient descent with regularisation to fint minimum theta*"
      ]
    },
    {
      "cell_type": "code",
      "metadata": {
        "id": "vA1kkGh7Wxss"
      },
      "source": [
        "# Gradient Descent\n",
        "def gradientDescent(X,y,theta,iters,alpha, lam):\n",
        "    lam_matrix = lam * np.ones(theta.shape)\n",
        "    lam_matrix[0][0] = 0\n",
        "    for i in range(iters):\n",
        "        theta = theta*(1- lam_matrix / len(X)) - (alpha/len(X)) * np.sum(X * (X @ theta.T - y), axis=0)\n",
        "\n",
        "    return theta"
      ],
      "execution_count": 70,
      "outputs": []
    },
    {
      "cell_type": "markdown",
      "metadata": {
        "id": "p2VgY1kK7T8b"
      },
      "source": [
        "7. *Normal eqution function with regularisation to find minimum theta*"
      ]
    },
    {
      "cell_type": "code",
      "metadata": {
        "id": "FdtX5XeoWxyE"
      },
      "source": [
        "#Normal equation\n",
        "def normalEquation(X,Y,lam):\n",
        "    lam_matrix = lam * np.identity(X.shape[1])\n",
        "    lam_matrix[0][0] = 0\n",
        "    theta = np.linalg.inv(X.T.dot(X) + lam_matrix).dot(X.T).dot(Y)\n",
        "    return theta\n"
      ],
      "execution_count": 71,
      "outputs": []
    },
    {
      "cell_type": "markdown",
      "metadata": {
        "id": "lB5CnXQJ7h-k"
      },
      "source": [
        "8. *Train the model with train data and predict the test data using gradient descent*\n",
        "9. *compute the minimum error and lambda*\n",
        "10. *plot error vs lambda graph*"
      ]
    },
    {
      "cell_type": "code",
      "metadata": {
        "id": "IPet8YbFWx3G",
        "outputId": "04aaa682-ed21-447e-f46f-a185c345505d",
        "colab": {
          "base_uri": "https://localhost:8080/",
          "height": 507
        }
      },
      "source": [
        "theta = np.zeros([1,X.shape[1]])\n",
        "alpha = .1 #learning rate\n",
        "iters = 500 #epoch\n",
        "error_matrix = []\n",
        "lam_range = 600 #maximam lamda\n",
        "for lam in range(lam_range):\n",
        "    g = gradientDescent(X_train,Y_train,theta,iters,alpha, lam)\n",
        "    Cost = computeCost(X_train,Y_train,g,lam)\n",
        "\n",
        "    Y_pred = X_test.dot(g.T)\n",
        "    error = computeError(denormalise_price(Y_pred),denormalise_price(Y_test))\n",
        "    error_matrix.append(error*100)\n",
        "optimal_lambda = 0\n",
        "min_error = 9999\n",
        "for i in range(len(error_matrix)):\n",
        "    if error_matrix[i] < min_error:\n",
        "        optimal_lambda = i\n",
        "        min_error = error_matrix[i]\n",
        "\n",
        "print(\"min Error  : \", (min_error),'%')\n",
        "print(\"Optimal Lambda : \", optimal_lambda)\n",
        "plotGraph(np.arange(lam_range),error_matrix,'lambda','error','lambda vs error')"
      ],
      "execution_count": 72,
      "outputs": [
        {
          "output_type": "stream",
          "name": "stdout",
          "text": [
            "min Error  :  540.9108433426503 %\n",
            "Optimal Lambda :  0\n"
          ]
        },
        {
          "output_type": "display_data",
          "data": {
            "text/plain": [
              "<Figure size 640x480 with 1 Axes>"
            ],
            "image/png": "[encoded data removed]"
          },
          "metadata": {}
        }
      ]
    },
    {
      "cell_type": "code",
      "metadata": {
        "id": "u9VrkVqe1PXM",
        "colab": {
          "base_uri": "https://localhost:8080/"
        },
        "outputId": "2e07b5c7-31a5-4969-e334-d943f37e4feb"
      },
      "source": [
        "print('pred price =',denormalise_price(Y_pred[2][0]),'actual price =',denormalise_price(Y_test[2][0]))"
      ],
      "execution_count": 73,
      "outputs": [
        {
          "output_type": "stream",
          "name": "stdout",
          "text": [
            "pred price = 5.75059834590936 actual price = 7.75223\n"
          ]
        }
      ]
    },
    {
      "cell_type": "markdown",
      "metadata": {
        "id": "M0LcIvFo8QLt"
      },
      "source": [
        "11. *Train the model with train data and predict the test data using Normal Equation*\n",
        "12. *compute the minimum error and lambda*\n",
        "13. *plot error vs lambda graph*"
      ]
    },
    {
      "cell_type": "code",
      "metadata": {
        "id": "e4DsK_VOWx5x",
        "colab": {
          "base_uri": "https://localhost:8080/",
          "height": 507
        },
        "outputId": "5fed1735-065c-485a-f9d5-a7d9e8ec504b"
      },
      "source": [
        "error_mat = []\n",
        "lam_range = 600\n",
        "\n",
        "for lam in range(lam_range):\n",
        "    theta = normalEquation(X,Y,lam)\n",
        "    Cost = computeCost(X_train,Y_train,theta.T,lam)\n",
        "    Y_pred = X_test.dot(theta)\n",
        "    error = computeError(denormalise_price(Y_pred),denormalise_price(Y_test))\n",
        "    error_mat.append(error*100)\n",
        "\n",
        "optimal_lambda = 0\n",
        "min_error = 9999\n",
        "for i in range(len(error_mat)):\n",
        "    if error_mat[i] < min_error:\n",
        "        optimal_lambda = i\n",
        "        min_error = error_mat[i]\n",
        "print(\"min Error : \", min_error)\n",
        "print(\"Optimal Lambda : \", optimal_lambda)\n",
        "plotGraph(np.arange(lam_range),error_mat,'lambda','error','lambda vs error')"
      ],
      "execution_count": 74,
      "outputs": [
        {
          "output_type": "stream",
          "name": "stdout",
          "text": [
            "min Error :  404.6203606506847\n",
            "Optimal Lambda :  0\n"
          ]
        },
        {
          "output_type": "display_data",
          "data": {
            "text/plain": [
              "<Figure size 640x480 with 1 Axes>"
            ],
            "image/png": "[encoded data removed]"
          },
          "metadata": {}
        }
      ]
    },
    {
      "cell_type": "code",
      "metadata": {
        "id": "Jvnh2FTgdjBR",
        "colab": {
          "base_uri": "https://localhost:8080/"
        },
        "outputId": "0f32d2c1-cbad-4e16-aa45-d3f0fdae99da"
      },
      "source": [
        "print('pred price =',denormalise_price(Y_pred[2][0]),'actual price =',denormalise_price(Y_test[2])[0])"
      ],
      "execution_count": 75,
      "outputs": [
        {
          "output_type": "stream",
          "name": "stdout",
          "text": [
            "pred price = 9.877085294105022 actual price = 7.75223\n"
          ]
        }
      ]
    }
  ]
}